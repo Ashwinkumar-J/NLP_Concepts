{
  "nbformat": 4,
  "nbformat_minor": 0,
  "metadata": {
    "colab": {
      "name": "Natural_Language_Processing(Concepts).ipynb",
      "provenance": [],
      "collapsed_sections": [],
      "authorship_tag": "ABX9TyMFGrq/i2AkNiAYuoVMLe7W",
      "include_colab_link": true
    },
    "kernelspec": {
      "name": "python3",
      "display_name": "Python 3"
    },
    "language_info": {
      "name": "python"
    }
  },
  "cells": [
    {
      "cell_type": "markdown",
      "metadata": {
        "id": "view-in-github",
        "colab_type": "text"
      },
      "source": [
        "<a href=\"https://colab.research.google.com/github/Ashwinkumar-J/NLP_Concepts/blob/main/Natural_Language_Processing(Concepts).ipynb\" target=\"_parent\"><img src=\"https://colab.research.google.com/assets/colab-badge.svg\" alt=\"Open In Colab\"/></a>"
      ]
    },
    {
      "cell_type": "code",
      "execution_count": 1,
      "metadata": {
        "colab": {
          "base_uri": "https://localhost:8080/"
        },
        "id": "zM4acoq9xtPh",
        "outputId": "93755524-433b-4307-d5a2-17fb77deb48c"
      },
      "outputs": [
        {
          "output_type": "stream",
          "name": "stdout",
          "text": [
            "--2022-03-26 12:35:11--  https://raw.githubusercontent.com/towardsai/tutorials/master/natural_language_processing/Natural_Language_Processing_Text.txt\n",
            "Resolving raw.githubusercontent.com (raw.githubusercontent.com)... 185.199.109.133, 185.199.110.133, 185.199.111.133, ...\n",
            "Connecting to raw.githubusercontent.com (raw.githubusercontent.com)|185.199.109.133|:443... connected.\n",
            "HTTP request sent, awaiting response... 200 OK\n",
            "Length: 679 [text/plain]\n",
            "Saving to: ‘Natural_Language_Processing_Text.txt’\n",
            "\n",
            "\r          Natural_L   0%[                    ]       0  --.-KB/s               \rNatural_Language_Pr 100%[===================>]     679  --.-KB/s    in 0s      \n",
            "\n",
            "2022-03-26 12:35:11 (29.7 MB/s) - ‘Natural_Language_Processing_Text.txt’ saved [679/679]\n",
            "\n"
          ]
        }
      ],
      "source": [
        "#To get the text file used :\n",
        "!wget https://raw.githubusercontent.com/towardsai/tutorials/master/natural_language_processing/Natural_Language_Processing_Text.txt"
      ]
    },
    {
      "cell_type": "code",
      "source": [
        "#To get the image file used :\n",
        "!wget https://raw.githubusercontent.com/towardsai/tutorials/master/natural_language_processing/circle.png"
      ],
      "metadata": {
        "colab": {
          "base_uri": "https://localhost:8080/"
        },
        "id": "68WmZMJ3yIvl",
        "outputId": "aa8fdf86-7091-4483-e4ef-2c4ab9add596"
      },
      "execution_count": 2,
      "outputs": [
        {
          "output_type": "stream",
          "name": "stdout",
          "text": [
            "--2022-03-26 12:35:13--  https://raw.githubusercontent.com/towardsai/tutorials/master/natural_language_processing/circle.png\n",
            "Resolving raw.githubusercontent.com (raw.githubusercontent.com)... 185.199.108.133, 185.199.109.133, 185.199.110.133, ...\n",
            "Connecting to raw.githubusercontent.com (raw.githubusercontent.com)|185.199.108.133|:443... connected.\n",
            "HTTP request sent, awaiting response... 200 OK\n",
            "Length: 9175 (9.0K) [image/png]\n",
            "Saving to: ‘circle.png’\n",
            "\n",
            "\rcircle.png            0%[                    ]       0  --.-KB/s               \rcircle.png          100%[===================>]   8.96K  --.-KB/s    in 0s      \n",
            "\n",
            "2022-03-26 12:35:13 (74.9 MB/s) - ‘circle.png’ saved [9175/9175]\n",
            "\n"
          ]
        }
      ]
    },
    {
      "cell_type": "code",
      "source": [
        "#Open the text file :\n",
        "text_file=open(\"Natural_Language_Processing_Text.txt\")\n",
        "\n",
        "#Read the data :\n",
        "text = text_file.read()\n",
        "\n",
        "#Datatype of the data read :\n",
        "print(type(text))\n",
        "print(\"\\n\")\n",
        "\n",
        "#Print the text :\n",
        "print(text)\n",
        "print(\"\\n\")\n",
        "\n",
        "#Length of the text :\n",
        "print(len(text))"
      ],
      "metadata": {
        "colab": {
          "base_uri": "https://localhost:8080/"
        },
        "id": "jZI1OkhOyMZQ",
        "outputId": "49b7fe47-57cf-4be9-c5c6-9b45a0157681"
      },
      "execution_count": 3,
      "outputs": [
        {
          "output_type": "stream",
          "name": "stdout",
          "text": [
            "<class 'str'>\n",
            "\n",
            "\n",
            "Once upon a time there was an old mother pig who had three little pigs and not enough food to feed them. So when they were old enough, she sent them out into the world to seek their fortunes.\n",
            "\n",
            "The first little pig was very lazy. He didn't want to work at all and he built his house out of straw. The second little pig worked a little bit harder but he was somewhat lazy too and he built his house out of sticks. Then, they sang and danced and played together the rest of the day.\n",
            "\n",
            "The third little pig worked hard all day and built his house with bricks. It was a sturdy house complete with a fine fireplace and chimney. It looked like it could withstand the strongest winds.\n",
            "\n",
            "\n",
            "675\n"
          ]
        }
      ]
    },
    {
      "cell_type": "code",
      "source": [
        "#Import required libraries :\n",
        "import nltk\n",
        "from nltk import sent_tokenize\n",
        "from nltk import word_tokenize\n",
        "\n",
        "import nltk\n",
        "nltk.download(\"popular\")"
      ],
      "metadata": {
        "colab": {
          "base_uri": "https://localhost:8080/"
        },
        "id": "hgYlayepy15q",
        "outputId": "b53371b5-a6d5-4c72-8ff4-310c5b7e8082"
      },
      "execution_count": 4,
      "outputs": [
        {
          "output_type": "stream",
          "name": "stdout",
          "text": [
            "[nltk_data] Downloading collection 'popular'\n",
            "[nltk_data]    | \n",
            "[nltk_data]    | Downloading package cmudict to /root/nltk_data...\n",
            "[nltk_data]    |   Unzipping corpora/cmudict.zip.\n",
            "[nltk_data]    | Downloading package gazetteers to /root/nltk_data...\n",
            "[nltk_data]    |   Unzipping corpora/gazetteers.zip.\n",
            "[nltk_data]    | Downloading package genesis to /root/nltk_data...\n",
            "[nltk_data]    |   Unzipping corpora/genesis.zip.\n",
            "[nltk_data]    | Downloading package gutenberg to /root/nltk_data...\n",
            "[nltk_data]    |   Unzipping corpora/gutenberg.zip.\n",
            "[nltk_data]    | Downloading package inaugural to /root/nltk_data...\n",
            "[nltk_data]    |   Unzipping corpora/inaugural.zip.\n",
            "[nltk_data]    | Downloading package movie_reviews to\n",
            "[nltk_data]    |     /root/nltk_data...\n",
            "[nltk_data]    |   Unzipping corpora/movie_reviews.zip.\n",
            "[nltk_data]    | Downloading package names to /root/nltk_data...\n",
            "[nltk_data]    |   Unzipping corpora/names.zip.\n",
            "[nltk_data]    | Downloading package shakespeare to /root/nltk_data...\n",
            "[nltk_data]    |   Unzipping corpora/shakespeare.zip.\n",
            "[nltk_data]    | Downloading package stopwords to /root/nltk_data...\n",
            "[nltk_data]    |   Unzipping corpora/stopwords.zip.\n",
            "[nltk_data]    | Downloading package treebank to /root/nltk_data...\n",
            "[nltk_data]    |   Unzipping corpora/treebank.zip.\n",
            "[nltk_data]    | Downloading package twitter_samples to\n",
            "[nltk_data]    |     /root/nltk_data...\n",
            "[nltk_data]    |   Unzipping corpora/twitter_samples.zip.\n",
            "[nltk_data]    | Downloading package omw to /root/nltk_data...\n",
            "[nltk_data]    |   Unzipping corpora/omw.zip.\n",
            "[nltk_data]    | Downloading package omw-1.4 to /root/nltk_data...\n",
            "[nltk_data]    |   Unzipping corpora/omw-1.4.zip.\n",
            "[nltk_data]    | Downloading package wordnet to /root/nltk_data...\n",
            "[nltk_data]    |   Unzipping corpora/wordnet.zip.\n",
            "[nltk_data]    | Downloading package wordnet2021 to /root/nltk_data...\n",
            "[nltk_data]    |   Unzipping corpora/wordnet2021.zip.\n",
            "[nltk_data]    | Downloading package wordnet31 to /root/nltk_data...\n",
            "[nltk_data]    |   Unzipping corpora/wordnet31.zip.\n",
            "[nltk_data]    | Downloading package wordnet_ic to /root/nltk_data...\n",
            "[nltk_data]    |   Unzipping corpora/wordnet_ic.zip.\n",
            "[nltk_data]    | Downloading package words to /root/nltk_data...\n",
            "[nltk_data]    |   Unzipping corpora/words.zip.\n",
            "[nltk_data]    | Downloading package maxent_ne_chunker to\n",
            "[nltk_data]    |     /root/nltk_data...\n",
            "[nltk_data]    |   Unzipping chunkers/maxent_ne_chunker.zip.\n",
            "[nltk_data]    | Downloading package punkt to /root/nltk_data...\n",
            "[nltk_data]    |   Unzipping tokenizers/punkt.zip.\n",
            "[nltk_data]    | Downloading package snowball_data to\n",
            "[nltk_data]    |     /root/nltk_data...\n",
            "[nltk_data]    | Downloading package averaged_perceptron_tagger to\n",
            "[nltk_data]    |     /root/nltk_data...\n",
            "[nltk_data]    |   Unzipping taggers/averaged_perceptron_tagger.zip.\n",
            "[nltk_data]    | \n",
            "[nltk_data]  Done downloading collection popular\n"
          ]
        },
        {
          "output_type": "execute_result",
          "data": {
            "text/plain": [
              "True"
            ]
          },
          "metadata": {},
          "execution_count": 4
        }
      ]
    },
    {
      "cell_type": "code",
      "source": [
        "#Tokenize the text by sentences :\n",
        "sentences=sent_tokenize(text)\n",
        "\n",
        "#How many sentences are there? :\n",
        "print (len(sentences))\n",
        "\n",
        "#Print the sentences :\n",
        "#print(sentences)\n",
        "sentences"
      ],
      "metadata": {
        "colab": {
          "base_uri": "https://localhost:8080/"
        },
        "id": "4EKOZw9SzOi6",
        "outputId": "12d24be2-1550-4e18-d5c0-fd1a9888d4d6"
      },
      "execution_count": 5,
      "outputs": [
        {
          "output_type": "stream",
          "name": "stdout",
          "text": [
            "9\n"
          ]
        },
        {
          "output_type": "execute_result",
          "data": {
            "text/plain": [
              "['Once upon a time there was an old mother pig who had three little pigs and not enough food to feed them.',\n",
              " 'So when they were old enough, she sent them out into the world to seek their fortunes.',\n",
              " 'The first little pig was very lazy.',\n",
              " \"He didn't want to work at all and he built his house out of straw.\",\n",
              " 'The second little pig worked a little bit harder but he was somewhat lazy too and he built his house out of sticks.',\n",
              " 'Then, they sang and danced and played together the rest of the day.',\n",
              " 'The third little pig worked hard all day and built his house with bricks.',\n",
              " 'It was a sturdy house complete with a fine fireplace and chimney.',\n",
              " 'It looked like it could withstand the strongest winds.']"
            ]
          },
          "metadata": {},
          "execution_count": 5
        }
      ]
    },
    {
      "cell_type": "code",
      "source": [
        "#Tokenize the text with words :\n",
        "words=word_tokenize(text)\n",
        "\n",
        "#How many words are there? :\n",
        "print (len(words))\n",
        "print(\"\\n\")\n",
        "\n",
        "#Print words :\n",
        "print(words)"
      ],
      "metadata": {
        "colab": {
          "base_uri": "https://localhost:8080/"
        },
        "id": "r5AkGzWlz65r",
        "outputId": "72971ca0-3739-477c-86ea-3a0685489755"
      },
      "execution_count": 6,
      "outputs": [
        {
          "output_type": "stream",
          "name": "stdout",
          "text": [
            "144\n",
            "\n",
            "\n",
            "['Once', 'upon', 'a', 'time', 'there', 'was', 'an', 'old', 'mother', 'pig', 'who', 'had', 'three', 'little', 'pigs', 'and', 'not', 'enough', 'food', 'to', 'feed', 'them', '.', 'So', 'when', 'they', 'were', 'old', 'enough', ',', 'she', 'sent', 'them', 'out', 'into', 'the', 'world', 'to', 'seek', 'their', 'fortunes', '.', 'The', 'first', 'little', 'pig', 'was', 'very', 'lazy', '.', 'He', 'did', \"n't\", 'want', 'to', 'work', 'at', 'all', 'and', 'he', 'built', 'his', 'house', 'out', 'of', 'straw', '.', 'The', 'second', 'little', 'pig', 'worked', 'a', 'little', 'bit', 'harder', 'but', 'he', 'was', 'somewhat', 'lazy', 'too', 'and', 'he', 'built', 'his', 'house', 'out', 'of', 'sticks', '.', 'Then', ',', 'they', 'sang', 'and', 'danced', 'and', 'played', 'together', 'the', 'rest', 'of', 'the', 'day', '.', 'The', 'third', 'little', 'pig', 'worked', 'hard', 'all', 'day', 'and', 'built', 'his', 'house', 'with', 'bricks', '.', 'It', 'was', 'a', 'sturdy', 'house', 'complete', 'with', 'a', 'fine', 'fireplace', 'and', 'chimney', '.', 'It', 'looked', 'like', 'it', 'could', 'withstand', 'the', 'strongest', 'winds', '.']\n"
          ]
        }
      ]
    },
    {
      "cell_type": "code",
      "source": [
        "#Import required libraries :\n",
        "from nltk.probability import FreqDist\n",
        "\n",
        "#Find the frequency :\n",
        "fdist=FreqDist(words)\n",
        "\n",
        "#Print 10 most common words :\n",
        "fdist.most_common(10)"
      ],
      "metadata": {
        "colab": {
          "base_uri": "https://localhost:8080/"
        },
        "id": "HOlf5T2j0Vjo",
        "outputId": "33ef5784-9d6c-4035-b206-d26d207fa5f3"
      },
      "execution_count": 7,
      "outputs": [
        {
          "output_type": "execute_result",
          "data": {
            "text/plain": [
              "[('.', 9),\n",
              " ('and', 7),\n",
              " ('little', 5),\n",
              " ('a', 4),\n",
              " ('was', 4),\n",
              " ('pig', 4),\n",
              " ('the', 4),\n",
              " ('house', 4),\n",
              " ('to', 3),\n",
              " ('out', 3)]"
            ]
          },
          "metadata": {},
          "execution_count": 7
        }
      ]
    },
    {
      "cell_type": "code",
      "source": [
        "#Plot the graph for fdist :\n",
        "import matplotlib.pyplot as plt\n",
        "\n",
        "fdist.plot(10)"
      ],
      "metadata": {
        "colab": {
          "base_uri": "https://localhost:8080/",
          "height": 299
        },
        "id": "oGNpPFtv03uq",
        "outputId": "d7b61c38-3d7d-453e-b870-0a9a8aee384a"
      },
      "execution_count": 8,
      "outputs": [
        {
          "output_type": "display_data",
          "data": {
            "text/plain": [
              "<Figure size 432x288 with 1 Axes>"
            ],
            "image/png": "[encoded data removed]"
          },
          "metadata": {
            "needs_background": "light"
          }
        }
      ]
    },
    {
      "cell_type": "code",
      "source": [
        "#Empty list to store words:\n",
        "words_no_punc=[]\n",
        "\n",
        "#Removing punctuation marks :\n",
        "for w in words:\n",
        "    if w.isalpha():\n",
        "        words_no_punc.append(w.lower())\n",
        "\n",
        "#Print the words without punctution marks :\n",
        "print (words_no_punc)\n",
        "\n",
        "print (\"\\n\")\n",
        "\n",
        "#Length :\n",
        "print (len(words_no_punc))"
      ],
      "metadata": {
        "colab": {
          "base_uri": "https://localhost:8080/"
        },
        "id": "zmFVk4Bs1CIy",
        "outputId": "b0787ec1-dbde-4a61-9b3f-a6e4d21d2233"
      },
      "execution_count": 9,
      "outputs": [
        {
          "output_type": "stream",
          "name": "stdout",
          "text": [
            "['once', 'upon', 'a', 'time', 'there', 'was', 'an', 'old', 'mother', 'pig', 'who', 'had', 'three', 'little', 'pigs', 'and', 'not', 'enough', 'food', 'to', 'feed', 'them', 'so', 'when', 'they', 'were', 'old', 'enough', 'she', 'sent', 'them', 'out', 'into', 'the', 'world', 'to', 'seek', 'their', 'fortunes', 'the', 'first', 'little', 'pig', 'was', 'very', 'lazy', 'he', 'did', 'want', 'to', 'work', 'at', 'all', 'and', 'he', 'built', 'his', 'house', 'out', 'of', 'straw', 'the', 'second', 'little', 'pig', 'worked', 'a', 'little', 'bit', 'harder', 'but', 'he', 'was', 'somewhat', 'lazy', 'too', 'and', 'he', 'built', 'his', 'house', 'out', 'of', 'sticks', 'then', 'they', 'sang', 'and', 'danced', 'and', 'played', 'together', 'the', 'rest', 'of', 'the', 'day', 'the', 'third', 'little', 'pig', 'worked', 'hard', 'all', 'day', 'and', 'built', 'his', 'house', 'with', 'bricks', 'it', 'was', 'a', 'sturdy', 'house', 'complete', 'with', 'a', 'fine', 'fireplace', 'and', 'chimney', 'it', 'looked', 'like', 'it', 'could', 'withstand', 'the', 'strongest', 'winds']\n",
            "\n",
            "\n",
            "132\n"
          ]
        }
      ]
    },
    {
      "cell_type": "code",
      "source": [
        "#Frequency distribution :\n",
        "fdist = FreqDist(words_no_punc)\n",
        "\n",
        "fdist.most_common(10)"
      ],
      "metadata": {
        "colab": {
          "base_uri": "https://localhost:8080/"
        },
        "id": "g30J99bJ1t9f",
        "outputId": "deaba39c-a30c-4d12-be67-c86607d423d5"
      },
      "execution_count": 10,
      "outputs": [
        {
          "output_type": "execute_result",
          "data": {
            "text/plain": [
              "[('and', 7),\n",
              " ('the', 7),\n",
              " ('little', 5),\n",
              " ('a', 4),\n",
              " ('was', 4),\n",
              " ('pig', 4),\n",
              " ('he', 4),\n",
              " ('house', 4),\n",
              " ('to', 3),\n",
              " ('out', 3)]"
            ]
          },
          "metadata": {},
          "execution_count": 10
        }
      ]
    },
    {
      "cell_type": "code",
      "source": [
        "#Plot the most common words on grpah:\n",
        "\n",
        "fdist.plot(10)"
      ],
      "metadata": {
        "colab": {
          "base_uri": "https://localhost:8080/",
          "height": 299
        },
        "id": "mXYDa5IS12sz",
        "outputId": "8d99030f-fcc7-4db2-99ce-311fcdba117b"
      },
      "execution_count": 11,
      "outputs": [
        {
          "output_type": "display_data",
          "data": {
            "text/plain": [
              "<Figure size 432x288 with 1 Axes>"
            ],
            "image/png": "[encoded data removed]"
          },
          "metadata": {
            "needs_background": "light"
          }
        }
      ]
    },
    {
      "cell_type": "code",
      "source": [
        "from nltk.corpus import stopwords\n",
        "\n",
        "#List of stopwords\n",
        "stopwords=stopwords.words(\"english\")\n",
        "print(stopwords)\n",
        "print(len(stopwords))"
      ],
      "metadata": {
        "colab": {
          "base_uri": "https://localhost:8080/"
        },
        "id": "m6VnIhYd16SG",
        "outputId": "ecf6ffd6-5de6-4d91-db4e-0da9b0d1afba"
      },
      "execution_count": 12,
      "outputs": [
        {
          "output_type": "stream",
          "name": "stdout",
          "text": [
            "['i', 'me', 'my', 'myself', 'we', 'our', 'ours', 'ourselves', 'you', \"you're\", \"you've\", \"you'll\", \"you'd\", 'your', 'yours', 'yourself', 'yourselves', 'he', 'him', 'his', 'himself', 'she', \"she's\", 'her', 'hers', 'herself', 'it', \"it's\", 'its', 'itself', 'they', 'them', 'their', 'theirs', 'themselves', 'what', 'which', 'who', 'whom', 'this', 'that', \"that'll\", 'these', 'those', 'am', 'is', 'are', 'was', 'were', 'be', 'been', 'being', 'have', 'has', 'had', 'having', 'do', 'does', 'did', 'doing', 'a', 'an', 'the', 'and', 'but', 'if', 'or', 'because', 'as', 'until', 'while', 'of', 'at', 'by', 'for', 'with', 'about', 'against', 'between', 'into', 'through', 'during', 'before', 'after', 'above', 'below', 'to', 'from', 'up', 'down', 'in', 'out', 'on', 'off', 'over', 'under', 'again', 'further', 'then', 'once', 'here', 'there', 'when', 'where', 'why', 'how', 'all', 'any', 'both', 'each', 'few', 'more', 'most', 'other', 'some', 'such', 'no', 'nor', 'not', 'only', 'own', 'same', 'so', 'than', 'too', 'very', 's', 't', 'can', 'will', 'just', 'don', \"don't\", 'should', \"should've\", 'now', 'd', 'll', 'm', 'o', 're', 've', 'y', 'ain', 'aren', \"aren't\", 'couldn', \"couldn't\", 'didn', \"didn't\", 'doesn', \"doesn't\", 'hadn', \"hadn't\", 'hasn', \"hasn't\", 'haven', \"haven't\", 'isn', \"isn't\", 'ma', 'mightn', \"mightn't\", 'mustn', \"mustn't\", 'needn', \"needn't\", 'shan', \"shan't\", 'shouldn', \"shouldn't\", 'wasn', \"wasn't\", 'weren', \"weren't\", 'won', \"won't\", 'wouldn', \"wouldn't\"]\n",
            "179\n"
          ]
        }
      ]
    },
    {
      "cell_type": "code",
      "source": [
        "#Empty list to store clean words :\n",
        "clean_words = []\n",
        "\n",
        "for w in words_no_punc:\n",
        "  if w not in stopwords:\n",
        "    clean_words.append(w)\n",
        "print(clean_words)\n",
        "print(\"\\n\")\n",
        "print(len(clean_words))"
      ],
      "metadata": {
        "colab": {
          "base_uri": "https://localhost:8080/"
        },
        "id": "yI1ahotE2V_Z",
        "outputId": "c8b17bea-ac3f-482f-cc2c-885fba1a0a5f"
      },
      "execution_count": 13,
      "outputs": [
        {
          "output_type": "stream",
          "name": "stdout",
          "text": [
            "['upon', 'time', 'old', 'mother', 'pig', 'three', 'little', 'pigs', 'enough', 'food', 'feed', 'old', 'enough', 'sent', 'world', 'seek', 'fortunes', 'first', 'little', 'pig', 'lazy', 'want', 'work', 'built', 'house', 'straw', 'second', 'little', 'pig', 'worked', 'little', 'bit', 'harder', 'somewhat', 'lazy', 'built', 'house', 'sticks', 'sang', 'danced', 'played', 'together', 'rest', 'day', 'third', 'little', 'pig', 'worked', 'hard', 'day', 'built', 'house', 'bricks', 'sturdy', 'house', 'complete', 'fine', 'fireplace', 'chimney', 'looked', 'like', 'could', 'withstand', 'strongest', 'winds']\n",
            "\n",
            "\n",
            "65\n"
          ]
        }
      ]
    },
    {
      "cell_type": "code",
      "source": [
        "#Frequency distribution :\n",
        "fdist = FreqDist(clean_words)\n",
        "\n",
        "fdist.most_common(10)"
      ],
      "metadata": {
        "colab": {
          "base_uri": "https://localhost:8080/"
        },
        "id": "3BpdCiBR2sFO",
        "outputId": "447cdc7f-abe5-46fe-bddd-b349b3f77a99"
      },
      "execution_count": 14,
      "outputs": [
        {
          "output_type": "execute_result",
          "data": {
            "text/plain": [
              "[('little', 5),\n",
              " ('pig', 4),\n",
              " ('house', 4),\n",
              " ('built', 3),\n",
              " ('old', 2),\n",
              " ('enough', 2),\n",
              " ('lazy', 2),\n",
              " ('worked', 2),\n",
              " ('day', 2),\n",
              " ('upon', 1)]"
            ]
          },
          "metadata": {},
          "execution_count": 14
        }
      ]
    },
    {
      "cell_type": "code",
      "source": [
        "#Plot the most common words on grpah:\n",
        "\n",
        "fdist.plot(10)"
      ],
      "metadata": {
        "colab": {
          "base_uri": "https://localhost:8080/",
          "height": 307
        },
        "id": "JCrnTUH22x0J",
        "outputId": "41e45fcb-a990-4e17-9798-06f7cabe0e79"
      },
      "execution_count": 15,
      "outputs": [
        {
          "output_type": "display_data",
          "data": {
            "text/plain": [
              "<Figure size 432x288 with 1 Axes>"
            ],
            "image/png": "[encoded data removed]"
          },
          "metadata": {
            "needs_background": "light"
          }
        }
      ]
    },
    {
      "cell_type": "code",
      "source": [
        "#Library to form wordcloud :\n",
        "from wordcloud import WordCloud\n",
        "\n",
        "#Library to plot the wordcloud :\n",
        "import matplotlib.pyplot as plt\n",
        "\n",
        "#Generating the wordcloud :\n",
        "wordcloud = WordCloud().generate(text)\n",
        "\n",
        "#Plot the wordcloud :\n",
        "plt.figure(figsize=(12,12))\n",
        "plt.imshow(wordcloud)\n",
        "\n",
        "#To remove the axis value :\n",
        "plt.axis(\"off\") \n",
        "plt.show()"
      ],
      "metadata": {
        "colab": {
          "base_uri": "https://localhost:8080/",
          "height": 366
        },
        "id": "gpEcKQPC2z33",
        "outputId": "5d0138d5-cab0-4f5c-a8e3-b1543c011715"
      },
      "execution_count": 16,
      "outputs": [
        {
          "output_type": "display_data",
          "data": {
            "text/plain": [
              "<Figure size 864x864 with 1 Axes>"
            ],
            "image/png": "[encoded data removed]"
          },
          "metadata": {
            "needs_background": "light"
          }
        }
      ]
    },
    {
      "cell_type": "code",
      "source": [
        "#Import required libraries :\n",
        "import numpy as np\n",
        "from PIL import Image\n",
        "from wordcloud import WordCloud\n",
        "\n",
        "#Here we are going to use a circle image as mask :\n",
        "char_mask = np.array(Image.open(\"circle.png\"))\n",
        "\n",
        "#Generating wordcloud :\n",
        "wordcloud = WordCloud(background_color=\"black\",mask=char_mask).generate(text)\n",
        "\n",
        "#Plot the wordcloud :\n",
        "plt.figure(figsize = (8,8))\n",
        "plt.imshow(wordcloud)\n",
        "\n",
        "#To remove the axis value :\n",
        "plt.axis(\"off\")\n",
        "plt.show()"
      ],
      "metadata": {
        "colab": {
          "base_uri": "https://localhost:8080/",
          "height": 416
        },
        "id": "xPL0-qzY4B5q",
        "outputId": "062829d9-3903-4d61-f685-8fbf5524d8b2"
      },
      "execution_count": 17,
      "outputs": [
        {
          "output_type": "display_data",
          "data": {
            "text/plain": [
              "<Figure size 576x576 with 1 Axes>"
            ],
            "image/png": "[encoded data removed]"
          },
          "metadata": {
            "needs_background": "light"
          }
        }
      ]
    },
    {
      "cell_type": "code",
      "source": [
        "#Stemming Example :\n",
        "\n",
        "#Import stemming library :\n",
        "from nltk.stem import PorterStemmer\n",
        "\n",
        "porter = PorterStemmer()\n",
        "\n",
        "#Word-list for stemming :\n",
        "word_list = [\"Study\",\"Studying\",\"Studies\",\"Studied\"]\n",
        "\n",
        "for w in word_list:\n",
        "    print(porter.stem(w))"
      ],
      "metadata": {
        "colab": {
          "base_uri": "https://localhost:8080/"
        },
        "id": "kGxTwmVj5xCj",
        "outputId": "a78d294e-a78b-4b23-d8f1-5a8cd4405562"
      },
      "execution_count": 18,
      "outputs": [
        {
          "output_type": "stream",
          "name": "stdout",
          "text": [
            "studi\n",
            "studi\n",
            "studi\n",
            "studi\n"
          ]
        }
      ]
    },
    {
      "cell_type": "code",
      "source": [
        "#Stemming Example :\n",
        "\n",
        "#Import stemming library :\n",
        "from nltk.stem import PorterStemmer\n",
        "\n",
        "porter = PorterStemmer()\n",
        "\n",
        "#Word-list for stemming :\n",
        "word_list = [\"studies\",\"leaves\",\"decreases\",\"plays\"]\n",
        "\n",
        "for w in word_list:\n",
        "    print(porter.stem(w))"
      ],
      "metadata": {
        "colab": {
          "base_uri": "https://localhost:8080/"
        },
        "id": "3LMjC3p_6GKj",
        "outputId": "5be626f1-c39e-47a8-a4c2-7b68633cef51"
      },
      "execution_count": 19,
      "outputs": [
        {
          "output_type": "stream",
          "name": "stdout",
          "text": [
            "studi\n",
            "leav\n",
            "decreas\n",
            "play\n"
          ]
        }
      ]
    },
    {
      "cell_type": "code",
      "source": [
        "#Stemming Example :\n",
        "\n",
        "#Import stemming library :\n",
        "from nltk.stem import SnowballStemmer\n",
        "\n",
        "snowball = SnowballStemmer(\"english\")\n",
        "\n",
        "#Word-list for stemming :\n",
        "word_list = [\"Study\",\"Studying\",\"Studies\",\"Studied\"]\n",
        "\n",
        "for w in word_list:\n",
        "    print(snowball.stem(w))"
      ],
      "metadata": {
        "colab": {
          "base_uri": "https://localhost:8080/"
        },
        "id": "Vqrs_C6h7LC9",
        "outputId": "1685f850-6e50-45c3-bbfb-91d5edba2a5f"
      },
      "execution_count": 20,
      "outputs": [
        {
          "output_type": "stream",
          "name": "stdout",
          "text": [
            "studi\n",
            "studi\n",
            "studi\n",
            "studi\n"
          ]
        }
      ]
    },
    {
      "cell_type": "code",
      "source": [
        "#Stemming Example :\n",
        "\n",
        "#Import stemming library :\n",
        "from nltk.stem import SnowballStemmer\n",
        "\n",
        "#Print languages supported :\n",
        "SnowballStemmer.languages"
      ],
      "metadata": {
        "colab": {
          "base_uri": "https://localhost:8080/"
        },
        "id": "14CYTfPq8NGC",
        "outputId": "0ee0dcac-7cab-4b8e-c043-d4fc180e86fa"
      },
      "execution_count": 21,
      "outputs": [
        {
          "output_type": "execute_result",
          "data": {
            "text/plain": [
              "('arabic',\n",
              " 'danish',\n",
              " 'dutch',\n",
              " 'english',\n",
              " 'finnish',\n",
              " 'french',\n",
              " 'german',\n",
              " 'hungarian',\n",
              " 'italian',\n",
              " 'norwegian',\n",
              " 'porter',\n",
              " 'portuguese',\n",
              " 'romanian',\n",
              " 'russian',\n",
              " 'spanish',\n",
              " 'swedish')"
            ]
          },
          "metadata": {},
          "execution_count": 21
        }
      ]
    },
    {
      "cell_type": "code",
      "source": [
        "from nltk import WordNetLemmatizer\n",
        "\n",
        "lemma = WordNetLemmatizer()\n",
        "word_list = [\"Study\",\"Studying\",\"Studies\",\"Studied\"]\n",
        "\n",
        "for w in word_list:\n",
        "    print(lemma.lemmatize(w ,pos=\"v\"))"
      ],
      "metadata": {
        "colab": {
          "base_uri": "https://localhost:8080/"
        },
        "id": "pazx9RJz8yIo",
        "outputId": "3c6a09f6-9ba6-4b9b-dbe0-12a6a40760fe"
      },
      "execution_count": 22,
      "outputs": [
        {
          "output_type": "stream",
          "name": "stdout",
          "text": [
            "Study\n",
            "Studying\n",
            "Studies\n",
            "Studied\n"
          ]
        }
      ]
    },
    {
      "cell_type": "code",
      "source": [
        "from nltk import WordNetLemmatizer\n",
        "\n",
        "lemma = WordNetLemmatizer()\n",
        "word_list = [\"am\",\"is\",\"are\",\"was\",\"were\"]\n",
        "\n",
        "for w in word_list:\n",
        "    print(lemma.lemmatize(w ,pos=\"v\"))"
      ],
      "metadata": {
        "colab": {
          "base_uri": "https://localhost:8080/"
        },
        "id": "Zm7aWvXb981w",
        "outputId": "665155d3-b108-4f3c-d4a2-ec5fd234248c"
      },
      "execution_count": 23,
      "outputs": [
        {
          "output_type": "stream",
          "name": "stdout",
          "text": [
            "be\n",
            "be\n",
            "be\n",
            "be\n",
            "be\n"
          ]
        }
      ]
    },
    {
      "cell_type": "code",
      "source": [
        "from nltk.stem import PorterStemmer\n",
        " \n",
        "stemmer = PorterStemmer()\n",
        " \n",
        "print(stemmer.stem('studies'))"
      ],
      "metadata": {
        "colab": {
          "base_uri": "https://localhost:8080/"
        },
        "id": "BYXPLaQ5-Axc",
        "outputId": "ff6ab8d2-489f-481c-e6e9-2d3494c22b8d"
      },
      "execution_count": 24,
      "outputs": [
        {
          "output_type": "stream",
          "name": "stdout",
          "text": [
            "studi\n"
          ]
        }
      ]
    },
    {
      "cell_type": "code",
      "source": [
        "from nltk.stem import WordNetLemmatizer\n",
        " \n",
        "lemmatizer = WordNetLemmatizer()\n",
        " \n",
        "print(lemmatizer.lemmatize('studies'))"
      ],
      "metadata": {
        "colab": {
          "base_uri": "https://localhost:8080/"
        },
        "id": "fbqvKshK-HGz",
        "outputId": "6c6aadf5-f605-4a72-8389-49ec38c5cbc6"
      },
      "execution_count": 25,
      "outputs": [
        {
          "output_type": "stream",
          "name": "stdout",
          "text": [
            "study\n"
          ]
        }
      ]
    },
    {
      "cell_type": "code",
      "source": [
        "from nltk.stem import WordNetLemmatizer\n",
        " \n",
        "lemmatizer = WordNetLemmatizer()\n",
        "print(lemmatizer.lemmatize('studying', pos=\"v\"))\n",
        "print(lemmatizer.lemmatize('studying', pos=\"n\"))\n",
        "print(lemmatizer.lemmatize('studying', pos=\"a\"))\n",
        "print(lemmatizer.lemmatize('studying', pos=\"r\"))"
      ],
      "metadata": {
        "colab": {
          "base_uri": "https://localhost:8080/"
        },
        "id": "3IgVZeKy-PCT",
        "outputId": "7bffa2ff-761b-4c73-dcfc-14e0cccd4e00"
      },
      "execution_count": 26,
      "outputs": [
        {
          "output_type": "stream",
          "name": "stdout",
          "text": [
            "study\n",
            "studying\n",
            "studying\n",
            "studying\n"
          ]
        }
      ]
    },
    {
      "cell_type": "code",
      "source": [
        "from nltk import WordNetLemmatizer\n",
        "\n",
        "lemma = WordNetLemmatizer()\n",
        "word_list = [\"studies\",\"leaves\",\"decreases\",\"plays\"]\n",
        "\n",
        "for w in word_list:\n",
        "    print(lemma.lemmatize(w))"
      ],
      "metadata": {
        "colab": {
          "base_uri": "https://localhost:8080/"
        },
        "id": "wnE7W7gD-QNl",
        "outputId": "ecdf324c-a867-49d1-832f-cf0035f1e7ed"
      },
      "execution_count": 27,
      "outputs": [
        {
          "output_type": "stream",
          "name": "stdout",
          "text": [
            "study\n",
            "leaf\n",
            "decrease\n",
            "play\n"
          ]
        }
      ]
    },
    {
      "cell_type": "code",
      "source": [
        "#PoS tagging :\n",
        "tag = nltk.pos_tag([\"Studying\",\"Study\"])\n",
        "print (tag)"
      ],
      "metadata": {
        "colab": {
          "base_uri": "https://localhost:8080/"
        },
        "id": "_DcuQQ9w_Kbl",
        "outputId": "63ed0bdb-640d-4e87-ccca-7b4a3619d42d"
      },
      "execution_count": 28,
      "outputs": [
        {
          "output_type": "stream",
          "name": "stdout",
          "text": [
            "[('Studying', 'VBG'), ('Study', 'NN')]\n"
          ]
        }
      ]
    },
    {
      "cell_type": "code",
      "source": [
        "#PoS tagging example :\n",
        "\n",
        "sentence = \"A very beautiful young lady is walking on the beach\"\n",
        "\n",
        "#Tokenizing words :\n",
        "tokenized_words = word_tokenize(sentence)\n",
        "\n",
        "for words in tokenized_words:\n",
        "    tagged_words = nltk.pos_tag(tokenized_words)\n",
        "    \n",
        "tagged_words"
      ],
      "metadata": {
        "colab": {
          "base_uri": "https://localhost:8080/"
        },
        "id": "8dgUXOyo_QNX",
        "outputId": "a2655558-6b28-4468-e045-097a22247a57"
      },
      "execution_count": 29,
      "outputs": [
        {
          "output_type": "execute_result",
          "data": {
            "text/plain": [
              "[('A', 'DT'),\n",
              " ('very', 'RB'),\n",
              " ('beautiful', 'JJ'),\n",
              " ('young', 'JJ'),\n",
              " ('lady', 'NN'),\n",
              " ('is', 'VBZ'),\n",
              " ('walking', 'VBG'),\n",
              " ('on', 'IN'),\n",
              " ('the', 'DT'),\n",
              " ('beach', 'NN')]"
            ]
          },
          "metadata": {},
          "execution_count": 29
        }
      ]
    },
    {
      "cell_type": "code",
      "source": [
        "#Chunking Concept\n",
        "#Extracting Noun Phrase from text :\n",
        "\n",
        "# ? - optional character\n",
        "# * - 0 or more repetations\n",
        "grammar = \"NP : {<DT>?<JJ>*<NN>} \"\n",
        "import matplotlib.pyplot as plt\n",
        "#Creating a parser :\n",
        "parser = nltk.RegexpParser(grammar)\n",
        "\n",
        "#Parsing text :\n",
        "output = parser.parse(tagged_words)\n",
        "print (output)\n",
        "\n",
        "#To visualize :\n",
        "#output.draw()"
      ],
      "metadata": {
        "id": "PFaICvB-EEbK",
        "colab": {
          "base_uri": "https://localhost:8080/"
        },
        "outputId": "0da30b2a-66d9-46a0-91f5-ec5f3ee3e824"
      },
      "execution_count": 32,
      "outputs": [
        {
          "output_type": "stream",
          "name": "stdout",
          "text": [
            "(S\n",
            "  A/DT\n",
            "  very/RB\n",
            "  (NP beautiful/JJ young/JJ lady/NN)\n",
            "  is/VBZ\n",
            "  walking/VBG\n",
            "  on/IN\n",
            "  (NP the/DT beach/NN))\n"
          ]
        }
      ]
    },
    {
      "cell_type": "code",
      "source": [
        "#Chinking example :\n",
        "# * - 0 or more repetations\n",
        "# + - 1 or more repetations\n",
        "\n",
        "#Here we are taking the whole string and then\n",
        "#excluding adjectives from that chunk.\n",
        "\n",
        "grammar = r\"\"\" NP: {<.*>+} \n",
        "               }<JJ>+{\"\"\"\n",
        "\n",
        "#Creating parser :\n",
        "parser = nltk.RegexpParser(grammar)\n",
        "\n",
        "#parsing string :\n",
        "output = parser.parse(tagged_words)\n",
        "print(output)\n",
        "\n",
        "#To visualize :\n",
        "#output.draw()"
      ],
      "metadata": {
        "colab": {
          "base_uri": "https://localhost:8080/"
        },
        "id": "S1sdsD5dRcE8",
        "outputId": "35af0309-da76-48b6-d10f-d4c099db0744"
      },
      "execution_count": 33,
      "outputs": [
        {
          "output_type": "stream",
          "name": "stdout",
          "text": [
            "(S\n",
            "  (NP A/DT very/RB)\n",
            "  beautiful/JJ\n",
            "  young/JJ\n",
            "  (NP lady/NN is/VBZ walking/VBG on/IN the/DT beach/NN))\n"
          ]
        }
      ]
    },
    {
      "cell_type": "code",
      "source": [
        "#Name Entity Recognition (NER)\n",
        "#Sentence for NER :\n",
        "sentence = \"Mr. Smith made a deal on a beach of Switzerland near WHO.\"\n",
        "\n",
        "#Tokenizing words :\n",
        "tokenized_words = word_tokenize(sentence)\n",
        "\n",
        "#PoS tagging :\n",
        "for w in tokenized_words:\n",
        "    tagged_words = nltk.pos_tag(tokenized_words)\n",
        "\n",
        "#print (tagged_words)\n",
        "\n",
        "#Named Entity Recognition :\n",
        "N_E_R = nltk.ne_chunk(tagged_words,binary=False)\n",
        "print(N_E_R)\n",
        "\n",
        "#To visualize :\n",
        "#N_E_R.draw()"
      ],
      "metadata": {
        "colab": {
          "base_uri": "https://localhost:8080/"
        },
        "id": "GzQ24LZ5Y-lG",
        "outputId": "b141a4b4-e273-45f2-82f6-f30441bbccb1"
      },
      "execution_count": 36,
      "outputs": [
        {
          "output_type": "stream",
          "name": "stdout",
          "text": [
            "(S\n",
            "  (PERSON Mr./NNP)\n",
            "  (PERSON Smith/NNP)\n",
            "  made/VBD\n",
            "  a/DT\n",
            "  deal/NN\n",
            "  on/IN\n",
            "  a/DT\n",
            "  beach/NN\n",
            "  of/IN\n",
            "  (GPE Switzerland/NNP)\n",
            "  near/IN\n",
            "  (ORGANIZATION WHO/NNP)\n",
            "  ./.)\n"
          ]
        }
      ]
    },
    {
      "cell_type": "code",
      "source": [
        "#Sentence for NER :\n",
        "sentence = \"Mr. Smith made a deal on a beach of Switzerland near WHO.\"\n",
        "\n",
        "#Tokenizing words :\n",
        "tokenized_words = word_tokenize(sentence)\n",
        "\n",
        "#PoS tagging :\n",
        "for w in tokenized_words:\n",
        "    tagged_words = nltk.pos_tag(tokenized_words)\n",
        "\n",
        "print(tagged_words)\n",
        "\n",
        "#Named Entity Recognition :\n",
        "N_E_R = nltk.ne_chunk(tagged_words,binary=True)\n",
        "\n",
        "print(N_E_R)\n",
        "\"\"\"When the binary value is True, then it will only show whether a\n",
        "particular entity is named entity or not. It will not show any\n",
        "further details on it.\"\"\"\n",
        "\n",
        "#To visualize :\n",
        "#N_E_R.draw()"
      ],
      "metadata": {
        "colab": {
          "base_uri": "https://localhost:8080/"
        },
        "id": "IarWxx4pc4-u",
        "outputId": "0bc909b3-9160-46a3-e736-2eace56d052a"
      },
      "execution_count": 38,
      "outputs": [
        {
          "output_type": "stream",
          "name": "stdout",
          "text": [
            "[('Mr.', 'NNP'), ('Smith', 'NNP'), ('made', 'VBD'), ('a', 'DT'), ('deal', 'NN'), ('on', 'IN'), ('a', 'DT'), ('beach', 'NN'), ('of', 'IN'), ('Switzerland', 'NNP'), ('near', 'IN'), ('WHO', 'NNP'), ('.', '.')]\n",
            "(S\n",
            "  (NE Mr./NNP Smith/NNP)\n",
            "  made/VBD\n",
            "  a/DT\n",
            "  deal/NN\n",
            "  on/IN\n",
            "  a/DT\n",
            "  beach/NN\n",
            "  of/IN\n",
            "  (NE Switzerland/NNP)\n",
            "  near/IN\n",
            "  (NE WHO/NNP)\n",
            "  ./.)\n"
          ]
        }
      ]
    },
    {
      "cell_type": "code",
      "source": [
        "#Sentence for NER :\n",
        "sentence = \"Mr. Smith made a deal on a beach of Switzerland near WHO.\"\n",
        "\n",
        "#Tokenizing words :\n",
        "tokenized_words = word_tokenize(sentence)\n",
        "\n",
        "#PoS tagging :\n",
        "for w in tokenized_words:\n",
        "    tagged_words = nltk.pos_tag(tokenized_words)\n",
        "\n",
        "print(tagged_words)\n",
        "\"\"\"When the binary value equals False, it shows in detail the type of\n",
        "named entities.\"\"\"\n",
        "#Named Entity Recognition :\n",
        "N_E_R = nltk.ne_chunk(tagged_words,binary=False)\n",
        "print(N_E_R)\n",
        "\n",
        "#To visualize :\n",
        "#N_E_R.draw()"
      ],
      "metadata": {
        "colab": {
          "base_uri": "https://localhost:8080/"
        },
        "id": "ZRf-BVePdbDX",
        "outputId": "c3812c7e-b670-4e13-d6c8-f9e89985640c"
      },
      "execution_count": 39,
      "outputs": [
        {
          "output_type": "stream",
          "name": "stdout",
          "text": [
            "[('Mr.', 'NNP'), ('Smith', 'NNP'), ('made', 'VBD'), ('a', 'DT'), ('deal', 'NN'), ('on', 'IN'), ('a', 'DT'), ('beach', 'NN'), ('of', 'IN'), ('Switzerland', 'NNP'), ('near', 'IN'), ('WHO', 'NNP'), ('.', '.')]\n",
            "(S\n",
            "  (PERSON Mr./NNP)\n",
            "  (PERSON Smith/NNP)\n",
            "  made/VBD\n",
            "  a/DT\n",
            "  deal/NN\n",
            "  on/IN\n",
            "  a/DT\n",
            "  beach/NN\n",
            "  of/IN\n",
            "  (GPE Switzerland/NNP)\n",
            "  near/IN\n",
            "  (ORGANIZATION WHO/NNP)\n",
            "  ./.)\n"
          ]
        }
      ]
    },
    {
      "cell_type": "code",
      "source": [
        "from nltk.corpus import wordnet\n",
        "\n",
        "for words in wordnet.synsets(\"Fun\"):\n",
        "  print(words)"
      ],
      "metadata": {
        "colab": {
          "base_uri": "https://localhost:8080/"
        },
        "id": "WgkkWxpadz3g",
        "outputId": "02f48020-59a7-4cca-9593-d64a0e231e21"
      },
      "execution_count": 40,
      "outputs": [
        {
          "output_type": "stream",
          "name": "stdout",
          "text": [
            "Synset('fun.n.01')\n",
            "Synset('fun.n.02')\n",
            "Synset('fun.n.03')\n",
            "Synset('playfulness.n.02')\n"
          ]
        }
      ]
    },
    {
      "cell_type": "code",
      "source": [
        "#Word meaning with definitions :\n",
        "for words in wordnet.synsets(\"Fun\"): \n",
        "    print(words.name())\n",
        "    print(words.definition())\n",
        "    print(words.examples())\n",
        "    \n",
        "    for lemma in words.lemmas(): \n",
        "        print(lemma)\n",
        "    print(\"\\n\")"
      ],
      "metadata": {
        "colab": {
          "base_uri": "https://localhost:8080/"
        },
        "id": "C1YR67Qyfhli",
        "outputId": "deef403d-d3c7-4770-d32e-5399062453e8"
      },
      "execution_count": 41,
      "outputs": [
        {
          "output_type": "stream",
          "name": "stdout",
          "text": [
            "fun.n.01\n",
            "activities that are enjoyable or amusing\n",
            "['I do it for the fun of it', 'he is fun to have around']\n",
            "Lemma('fun.n.01.fun')\n",
            "Lemma('fun.n.01.merriment')\n",
            "Lemma('fun.n.01.playfulness')\n",
            "\n",
            "\n",
            "fun.n.02\n",
            "verbal wit or mockery (often at another's expense but not to be taken seriously)\n",
            "['he became a figure of fun', 'he said it in sport']\n",
            "Lemma('fun.n.02.fun')\n",
            "Lemma('fun.n.02.play')\n",
            "Lemma('fun.n.02.sport')\n",
            "\n",
            "\n",
            "fun.n.03\n",
            "violent and excited activity\n",
            "['she asked for money and then the fun began', 'they began to fight like fun']\n",
            "Lemma('fun.n.03.fun')\n",
            "\n",
            "\n",
            "playfulness.n.02\n",
            "a disposition to find (or make) causes for amusement\n",
            "['her playfulness surprised me', 'he was fun to be with']\n",
            "Lemma('playfulness.n.02.playfulness')\n",
            "Lemma('playfulness.n.02.fun')\n",
            "\n",
            "\n"
          ]
        }
      ]
    },
    {
      "cell_type": "code",
      "source": [
        "#How many differnt meanings :\n",
        "for words in wordnet.synsets(\"Fun\"): \n",
        "    for lemma in words.lemmas(): \n",
        "        print(lemma)\n",
        "    print(\"\\n\")"
      ],
      "metadata": {
        "colab": {
          "base_uri": "https://localhost:8080/"
        },
        "id": "qQOsYXUxfj9J",
        "outputId": "6ab1aa7d-9cba-42c5-fed9-4f9cfe29af13"
      },
      "execution_count": 42,
      "outputs": [
        {
          "output_type": "stream",
          "name": "stdout",
          "text": [
            "Lemma('fun.n.01.fun')\n",
            "Lemma('fun.n.01.merriment')\n",
            "Lemma('fun.n.01.playfulness')\n",
            "\n",
            "\n",
            "Lemma('fun.n.02.fun')\n",
            "Lemma('fun.n.02.play')\n",
            "Lemma('fun.n.02.sport')\n",
            "\n",
            "\n",
            "Lemma('fun.n.03.fun')\n",
            "\n",
            "\n",
            "Lemma('playfulness.n.02.playfulness')\n",
            "Lemma('playfulness.n.02.fun')\n",
            "\n",
            "\n"
          ]
        }
      ]
    },
    {
      "cell_type": "code",
      "source": [
        "word = wordnet.synsets(\"Play\")[0]\n",
        "\n",
        "#Checking name :\n",
        "print(word.name())\n",
        "\n",
        "#Checking definition :\n",
        "print(word.definition())\n",
        "\n",
        "#Checking examples:\n",
        "print(word.examples())"
      ],
      "metadata": {
        "colab": {
          "base_uri": "https://localhost:8080/"
        },
        "id": "GQIRsXbdf1p9",
        "outputId": "acb12a7c-5691-446a-f7f5-06bc7d98e0ba"
      },
      "execution_count": 43,
      "outputs": [
        {
          "output_type": "stream",
          "name": "stdout",
          "text": [
            "play.n.01\n",
            "a dramatic work intended for performance by actors on a stage\n",
            "['he wrote several plays but only one was produced on Broadway']\n"
          ]
        }
      ]
    },
    {
      "cell_type": "code",
      "source": [
        "word = wordnet.synsets(\"Play\")[0]\n",
        "\n",
        "#Find more abstract term :\n",
        "print(word.hypernyms())"
      ],
      "metadata": {
        "colab": {
          "base_uri": "https://localhost:8080/"
        },
        "id": "fxiTF38rf_G3",
        "outputId": "80166be3-b495-43fa-e569-3b365eef8133"
      },
      "execution_count": 44,
      "outputs": [
        {
          "output_type": "stream",
          "name": "stdout",
          "text": [
            "[Synset('dramatic_composition.n.01')]\n"
          ]
        }
      ]
    },
    {
      "cell_type": "code",
      "source": [
        "word = wordnet.synsets(\"Play\")[0]\n",
        "\n",
        "#Find more specific term :\n",
        "word.hyponyms()"
      ],
      "metadata": {
        "colab": {
          "base_uri": "https://localhost:8080/"
        },
        "id": "XaTWxJgpgDz_",
        "outputId": "d6357523-7981-4a3d-94c4-89f2eb13b19d"
      },
      "execution_count": 45,
      "outputs": [
        {
          "output_type": "execute_result",
          "data": {
            "text/plain": [
              "[Synset('grand_guignol.n.01'),\n",
              " Synset('miracle_play.n.01'),\n",
              " Synset('morality_play.n.01'),\n",
              " Synset('mystery_play.n.01'),\n",
              " Synset('passion_play.n.01'),\n",
              " Synset('playlet.n.01'),\n",
              " Synset('satyr_play.n.01'),\n",
              " Synset('theater_of_the_absurd.n.01')]"
            ]
          },
          "metadata": {},
          "execution_count": 45
        }
      ]
    },
    {
      "cell_type": "code",
      "source": [
        "word = wordnet.synsets(\"Play\")[0]\n",
        "\n",
        "#Get only name :\n",
        "print(word.lemmas()[0].name())\n"
      ],
      "metadata": {
        "colab": {
          "base_uri": "https://localhost:8080/"
        },
        "id": "NliNnu80gGYr",
        "outputId": "4f6a1221-02e9-4f4b-8001-b4e16927145f"
      },
      "execution_count": 46,
      "outputs": [
        {
          "output_type": "stream",
          "name": "stdout",
          "text": [
            "play\n"
          ]
        }
      ]
    },
    {
      "cell_type": "code",
      "source": [
        "#Finding synonyms :\n",
        "\n",
        "#Empty list to store synonyms :\n",
        "synonyms = []\n",
        "\n",
        "for words in wordnet.synsets('Fun'):\n",
        "    for lemma in words.lemmas():\n",
        "        synonyms.append(lemma.name())\n",
        "        \n",
        "synonyms"
      ],
      "metadata": {
        "colab": {
          "base_uri": "https://localhost:8080/"
        },
        "id": "uRxSIAdugOlr",
        "outputId": "3ba32a61-ff65-4856-8c36-c0b7101a8243"
      },
      "execution_count": 47,
      "outputs": [
        {
          "output_type": "execute_result",
          "data": {
            "text/plain": [
              "['fun',\n",
              " 'merriment',\n",
              " 'playfulness',\n",
              " 'fun',\n",
              " 'play',\n",
              " 'sport',\n",
              " 'fun',\n",
              " 'playfulness',\n",
              " 'fun']"
            ]
          },
          "metadata": {},
          "execution_count": 47
        }
      ]
    },
    {
      "cell_type": "code",
      "source": [
        "#Finding antonyms :\n",
        "\n",
        "#Empty list to store antonyms :\n",
        "antonyms = []\n",
        "\n",
        "for words in wordnet.synsets('Natural'):\n",
        "    for lemma in words.lemmas():\n",
        "        if lemma.antonyms():\n",
        "            antonyms.append(lemma.antonyms()[0].name())\n",
        "            \n",
        "#Print antonyms :            \n",
        "antonyms"
      ],
      "metadata": {
        "colab": {
          "base_uri": "https://localhost:8080/"
        },
        "id": "BTr9Yu0QgRPT",
        "outputId": "2da97fab-f263-4f2e-d1d5-0b959f8cadde"
      },
      "execution_count": 48,
      "outputs": [
        {
          "output_type": "execute_result",
          "data": {
            "text/plain": [
              "['unnatural', 'artificial', 'supernatural', 'flat']"
            ]
          },
          "metadata": {},
          "execution_count": 48
        }
      ]
    },
    {
      "cell_type": "code",
      "source": [
        "#Finding synonyms and antonyms :\n",
        "\n",
        "#Empty lists to store synonyms/antonynms : \n",
        "synonyms = []\n",
        "antonyms = []\n",
        "\n",
        "for words in wordnet.synsets('New'):\n",
        "    for lemma in words.lemmas():\n",
        "        synonyms.append(lemma.name())\n",
        "        if lemma.antonyms():\n",
        "            antonyms.append(lemma.antonyms()[0].name())\n",
        "            \n",
        "#Print lists :\n",
        "print(synonyms)\n",
        "print(\"\\n\")\n",
        "print(antonyms)"
      ],
      "metadata": {
        "colab": {
          "base_uri": "https://localhost:8080/"
        },
        "id": "Fl8-wfLlgnup",
        "outputId": "58476825-b63b-43d1-acec-f8c3a72ed8d4"
      },
      "execution_count": 49,
      "outputs": [
        {
          "output_type": "stream",
          "name": "stdout",
          "text": [
            "['new', 'fresh', 'new', 'novel', 'raw', 'new', 'new', 'unexampled', 'new', 'new', 'newfangled', 'new', 'New', 'Modern', 'New', 'new', 'young', 'new', 'newly', 'freshly', 'fresh', 'new']\n",
            "\n",
            "\n",
            "['old', 'worn']\n"
          ]
        }
      ]
    },
    {
      "cell_type": "code",
      "source": [
        "#Similarity in words :\n",
        "word1 = wordnet.synsets(\"ship\",\"n\")[0]\n",
        "\n",
        "word2 = wordnet.synsets(\"boat\",\"n\")[0] \n",
        "\n",
        "#Check similarity :\n",
        "print(word1.wup_similarity(word2))"
      ],
      "metadata": {
        "colab": {
          "base_uri": "https://localhost:8080/"
        },
        "id": "jejOce2Dj2-k",
        "outputId": "8591da97-d4e6-4836-91cf-43d4641ace13"
      },
      "execution_count": 50,
      "outputs": [
        {
          "output_type": "stream",
          "name": "stdout",
          "text": [
            "0.9090909090909091\n"
          ]
        }
      ]
    },
    {
      "cell_type": "code",
      "source": [
        "#Similarity in words :\n",
        "word1 = wordnet.synsets(\"ship\",\"n\")[0]\n",
        "\n",
        "word2 = wordnet.synsets(\"bike\",\"n\")[0] \n",
        "\n",
        "#Check similarity :\n",
        "print(word1.wup_similarity(word2)) "
      ],
      "metadata": {
        "colab": {
          "base_uri": "https://localhost:8080/"
        },
        "id": "7oHkcEncj-M3",
        "outputId": "75aa8a80-152a-4ae4-e65a-9f11b5d7ee1b"
      },
      "execution_count": 51,
      "outputs": [
        {
          "output_type": "stream",
          "name": "stdout",
          "text": [
            "0.6956521739130435\n"
          ]
        }
      ]
    },
    {
      "cell_type": "code",
      "source": [
        "#Import required libraries :\n",
        "from sklearn.feature_extraction.text import CountVectorizer\n",
        "\n",
        "#Text for analysis :\n",
        "sentences = [\"Jim and Pam travelled by the bus:\",\n",
        "             \"The train was late\",\n",
        "             \"The flight was full.Travelling by flight is expensive\"]\n",
        "\n",
        "#Create an object :\n",
        "cv = CountVectorizer()\n",
        "\n",
        "#Generating output for Bag of Words :\n",
        "B_O_W = cv.fit_transform(sentences).toarray()\n",
        "\n",
        "#Total words with their index in model :\n",
        "print(cv.vocabulary_)\n",
        "print(\"\\n\")\n",
        "\n",
        "#Features :\n",
        "print(cv.get_feature_names())\n",
        "print(\"\\n\")\n",
        "\n",
        "#Show the output :\n",
        "print(B_O_W)"
      ],
      "metadata": {
        "colab": {
          "base_uri": "https://localhost:8080/"
        },
        "id": "YbZC9hU_mLAA",
        "outputId": "0b45f4c7-0843-416c-c904-0294b56d9f46"
      },
      "execution_count": 56,
      "outputs": [
        {
          "output_type": "stream",
          "name": "stdout",
          "text": [
            "{'jim': 7, 'and': 0, 'pam': 9, 'travelled': 12, 'by': 2, 'the': 10, 'bus': 1, 'train': 11, 'was': 14, 'late': 8, 'flight': 4, 'full': 5, 'travelling': 13, 'is': 6, 'expensive': 3}\n",
            "\n",
            "\n",
            "['and', 'bus', 'by', 'expensive', 'flight', 'full', 'is', 'jim', 'late', 'pam', 'the', 'train', 'travelled', 'travelling', 'was']\n",
            "\n",
            "\n",
            "[[1 1 1 0 0 0 0 1 0 1 1 0 1 0 0]\n",
            " [0 0 0 0 0 0 0 0 1 0 1 1 0 0 1]\n",
            " [0 0 1 1 2 1 1 0 0 0 1 0 0 1 1]]\n"
          ]
        },
        {
          "output_type": "stream",
          "name": "stderr",
          "text": [
            "/usr/local/lib/python3.7/dist-packages/sklearn/utils/deprecation.py:87: FutureWarning: Function get_feature_names is deprecated; get_feature_names is deprecated in 1.0 and will be removed in 1.2. Please use get_feature_names_out instead.\n",
            "  warnings.warn(msg, category=FutureWarning)\n"
          ]
        }
      ]
    },
    {
      "cell_type": "code",
      "source": [
        "#Import required libraries :\n",
        "from sklearn.feature_extraction.text import TfidfVectorizer\n",
        "\n",
        "#Sentences for analysis :\n",
        "sentences = ['This is the first document','This document is the second document']\n",
        "\n",
        "#Create an object :\n",
        "vectorizer = TfidfVectorizer(norm = None)\n",
        "\n",
        "#Generating output for TF_IDF :\n",
        "X = vectorizer.fit_transform(sentences).toarray()\n",
        "\n",
        "#Total words with their index in model :\n",
        "print(vectorizer.vocabulary_)\n",
        "print(\"\\n\")\n",
        "\n",
        "#Features :\n",
        "print(vectorizer.get_feature_names())\n",
        "print(\"\\n\")\n",
        "\n",
        "#Show the output :\n",
        "print(X)"
      ],
      "metadata": {
        "colab": {
          "base_uri": "https://localhost:8080/"
        },
        "id": "LuU8QIU6o1jn",
        "outputId": "76af5f7c-e0b6-4d7d-96e7-6c6459eac76e"
      },
      "execution_count": 57,
      "outputs": [
        {
          "output_type": "stream",
          "name": "stdout",
          "text": [
            "{'this': 5, 'is': 2, 'the': 4, 'first': 1, 'document': 0, 'second': 3}\n",
            "\n",
            "\n",
            "['document', 'first', 'is', 'second', 'the', 'this']\n",
            "\n",
            "\n",
            "[[1.         1.40546511 1.         0.         1.         1.        ]\n",
            " [2.         0.         1.         1.40546511 1.         1.        ]]\n"
          ]
        },
        {
          "output_type": "stream",
          "name": "stderr",
          "text": [
            "/usr/local/lib/python3.7/dist-packages/sklearn/utils/deprecation.py:87: FutureWarning: Function get_feature_names is deprecated; get_feature_names is deprecated in 1.0 and will be removed in 1.2. Please use get_feature_names_out instead.\n",
            "  warnings.warn(msg, category=FutureWarning)\n"
          ]
        }
      ]
    }
  ]
}